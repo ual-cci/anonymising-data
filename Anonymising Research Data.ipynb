{
 "cells": [
  {
   "cell_type": "markdown",
   "metadata": {},
   "source": [
    "# Anonymising Research Data\n",
    "\n",
    "A practical Python implementation of Guidelines from the [UK Data Service](https://www.ukdataservice.ac.uk/manage-data/legal-ethical/anonymisation)\n",
    "\n",
    "## Pandas\n",
    "\n",
    "This notebook will also serve as an introduction to the Python Library [Pandas](https://pandas.pydata.org/pandas-docs/stable/user_guide/index.html). **Pandas** is a library for handling tabular data. Its alot more robust for data that is not just numbers than **NumPy**. Its main data format is the **DataFrame**, which is like a 2D array, but with column names and indexes for the rows. \n",
    "\n",
    "Normally (in a ``real experiment``), we'd have the data saved in something like the **comma-separated variable (.csv)** format.\n",
    "\n",
    "We'll see how to do that, but before we'll see how I generated some fake data. "
   ]
  },
  {
   "cell_type": "code",
   "execution_count": null,
   "metadata": {},
   "outputs": [],
   "source": [
    "#import the library (pandas) and give it an alias (pd)\n",
    "import pandas as pd\n",
    "import numpy as np\n",
    "import os"
   ]
  },
  {
   "cell_type": "code",
   "execution_count": null,
   "metadata": {},
   "outputs": [],
   "source": [
    "#install the faker library\n",
    "!pip3 install Faker"
   ]
  },
  {
   "cell_type": "code",
   "execution_count": null,
   "metadata": {},
   "outputs": [],
   "source": [
    "from faker import Faker"
   ]
  },
  {
   "cell_type": "code",
   "execution_count": null,
   "metadata": {},
   "outputs": [],
   "source": [
    "# Generating some fake data \n",
    "\n",
    "faker = Faker()\n",
    "data = []\n",
    "postcodes = pd.read_csv(\"postcodes.csv\").values.flatten()\n",
    "for _ in range(100):\n",
    "    profile = faker.simple_profile()\n",
    "    profile[\"address\"] = np.random.choice(postcodes)\n",
    "    profile[\"job\"] = faker.job()\n",
    "    profile[\"phone\"] = faker.phone_number()\n",
    "    profile[\"userid\"] = faker.uuid4()\n",
    "    profile[\"survey_answers\"] = np.random.randint(1,6,20)\n",
    "    profile[\"salary\"] = np.random.normal(22000,2000)\n",
    "    data.append(profile)\n",
    "\n",
    "#High earning outliers\n",
    "data[0][\"salary\"] = 120000\n",
    "data[1][\"salary\"] = 140000\n",
    "my_data = pd.DataFrame(data)"
   ]
  },
  {
   "cell_type": "code",
   "execution_count": null,
   "metadata": {},
   "outputs": [],
   "source": [
    "my_data.to_csv(\"my_fake_data.csv\", index = False)"
   ]
  },
  {
   "cell_type": "markdown",
   "metadata": {},
   "source": [
    "## Quantiative Data\n",
    "\n",
    "### Remove direct identifiers from a dataset\n",
    "\n",
    "Such identifiers are often not necessary for secondary research.\n",
    "\n",
    "Lets first look at what information is in here that is **personally identifiable** but **not relevant** to research \n",
    "\n",
    "The ``.head()`` function lets us eye-ball the first few entries in the dataset \n"
   ]
  },
  {
   "cell_type": "code",
   "execution_count": 96,
   "metadata": {},
   "outputs": [],
   "source": [
    "#Read in .csv file, tell Pandas which column is contains dates\n",
    "data = pd.read_csv(\"my_fake_data.csv\", parse_dates = [\"birthdate\"])"
   ]
  },
  {
   "cell_type": "code",
   "execution_count": 97,
   "metadata": {},
   "outputs": [
    {
     "data": {
      "text/html": [
       "<div>\n",
       "<style scoped>\n",
       "    .dataframe tbody tr th:only-of-type {\n",
       "        vertical-align: middle;\n",
       "    }\n",
       "\n",
       "    .dataframe tbody tr th {\n",
       "        vertical-align: top;\n",
       "    }\n",
       "\n",
       "    .dataframe thead th {\n",
       "        text-align: right;\n",
       "    }\n",
       "</style>\n",
       "<table border=\"1\" class=\"dataframe\">\n",
       "  <thead>\n",
       "    <tr style=\"text-align: right;\">\n",
       "      <th></th>\n",
       "      <th>username</th>\n",
       "      <th>name</th>\n",
       "      <th>sex</th>\n",
       "      <th>address</th>\n",
       "      <th>mail</th>\n",
       "      <th>birthdate</th>\n",
       "      <th>job</th>\n",
       "      <th>phone</th>\n",
       "      <th>userid</th>\n",
       "      <th>survey_answers</th>\n",
       "      <th>salary</th>\n",
       "    </tr>\n",
       "  </thead>\n",
       "  <tbody>\n",
       "    <tr>\n",
       "      <th>0</th>\n",
       "      <td>joshuavargas</td>\n",
       "      <td>Mr. Anthony Wheeler</td>\n",
       "      <td>M</td>\n",
       "      <td>BB95QF</td>\n",
       "      <td>lori20@hotmail.com</td>\n",
       "      <td>2018-06-11</td>\n",
       "      <td>Dentist</td>\n",
       "      <td>001-041-687-6522x688</td>\n",
       "      <td>b16d9a93-f038-4acf-b43f-df49c6bc1584</td>\n",
       "      <td>[2 3 3 4 2 2 3 1 1 3 1 3 2 4 2 3 1 4 2 1]</td>\n",
       "      <td>120000.000000</td>\n",
       "    </tr>\n",
       "    <tr>\n",
       "      <th>1</th>\n",
       "      <td>hayesaustin</td>\n",
       "      <td>Shawn Mcclain</td>\n",
       "      <td>M</td>\n",
       "      <td>PE285WA</td>\n",
       "      <td>greenlauren@yahoo.com</td>\n",
       "      <td>1991-12-23</td>\n",
       "      <td>IT trainer</td>\n",
       "      <td>(720)492-5711x199</td>\n",
       "      <td>5aa90f84-fee7-4f7b-82dc-73a431a656fd</td>\n",
       "      <td>[2 1 5 5 3 5 3 1 5 4 1 5 5 5 4 2 5 3 4 4]</td>\n",
       "      <td>140000.000000</td>\n",
       "    </tr>\n",
       "    <tr>\n",
       "      <th>2</th>\n",
       "      <td>bolson</td>\n",
       "      <td>John Dickerson</td>\n",
       "      <td>M</td>\n",
       "      <td>LS146QA</td>\n",
       "      <td>gonzalezjoanna@gmail.com</td>\n",
       "      <td>1983-08-04</td>\n",
       "      <td>Designer, ceramics/pottery</td>\n",
       "      <td>5652192709</td>\n",
       "      <td>7f0f9014-cb57-47c4-a419-d24f02a392e1</td>\n",
       "      <td>[5 5 4 5 3 5 3 2 3 5 5 1 4 2 3 2 1 1 4 2]</td>\n",
       "      <td>21004.060406</td>\n",
       "    </tr>\n",
       "    <tr>\n",
       "      <th>3</th>\n",
       "      <td>vdominguez</td>\n",
       "      <td>Joshua Harmon</td>\n",
       "      <td>M</td>\n",
       "      <td>CV32SD</td>\n",
       "      <td>gjames@hotmail.com</td>\n",
       "      <td>1988-10-10</td>\n",
       "      <td>Video editor</td>\n",
       "      <td>001-782-445-5284x368</td>\n",
       "      <td>33ba4442-835e-4983-bab5-9877d282a9c5</td>\n",
       "      <td>[5 3 1 4 5 4 4 5 1 4 4 1 2 4 2 3 1 1 3 1]</td>\n",
       "      <td>22977.506918</td>\n",
       "    </tr>\n",
       "    <tr>\n",
       "      <th>4</th>\n",
       "      <td>richard48</td>\n",
       "      <td>Alicia Jones</td>\n",
       "      <td>F</td>\n",
       "      <td>ST72YB</td>\n",
       "      <td>sarah34@gmail.com</td>\n",
       "      <td>1993-11-04</td>\n",
       "      <td>Agricultural engineer</td>\n",
       "      <td>+1-791-226-4149x507</td>\n",
       "      <td>ec173538-c898-4d17-a48e-15e9e3f855e7</td>\n",
       "      <td>[1 5 5 5 4 3 3 5 3 4 1 5 3 2 4 5 2 1 5 3]</td>\n",
       "      <td>21164.792207</td>\n",
       "    </tr>\n",
       "  </tbody>\n",
       "</table>\n",
       "</div>"
      ],
      "text/plain": [
       "       username                 name sex  address                      mail  \\\n",
       "0  joshuavargas  Mr. Anthony Wheeler   M   BB95QF        lori20@hotmail.com   \n",
       "1   hayesaustin        Shawn Mcclain   M  PE285WA     greenlauren@yahoo.com   \n",
       "2        bolson       John Dickerson   M  LS146QA  gonzalezjoanna@gmail.com   \n",
       "3    vdominguez        Joshua Harmon   M   CV32SD        gjames@hotmail.com   \n",
       "4     richard48         Alicia Jones   F   ST72YB         sarah34@gmail.com   \n",
       "\n",
       "   birthdate                         job                 phone  \\\n",
       "0 2018-06-11                     Dentist  001-041-687-6522x688   \n",
       "1 1991-12-23                  IT trainer     (720)492-5711x199   \n",
       "2 1983-08-04  Designer, ceramics/pottery            5652192709   \n",
       "3 1988-10-10                Video editor  001-782-445-5284x368   \n",
       "4 1993-11-04       Agricultural engineer   +1-791-226-4149x507   \n",
       "\n",
       "                                 userid  \\\n",
       "0  b16d9a93-f038-4acf-b43f-df49c6bc1584   \n",
       "1  5aa90f84-fee7-4f7b-82dc-73a431a656fd   \n",
       "2  7f0f9014-cb57-47c4-a419-d24f02a392e1   \n",
       "3  33ba4442-835e-4983-bab5-9877d282a9c5   \n",
       "4  ec173538-c898-4d17-a48e-15e9e3f855e7   \n",
       "\n",
       "                              survey_answers         salary  \n",
       "0  [2 3 3 4 2 2 3 1 1 3 1 3 2 4 2 3 1 4 2 1]  120000.000000  \n",
       "1  [2 1 5 5 3 5 3 1 5 4 1 5 5 5 4 2 5 3 4 4]  140000.000000  \n",
       "2  [5 5 4 5 3 5 3 2 3 5 5 1 4 2 3 2 1 1 4 2]   21004.060406  \n",
       "3  [5 3 1 4 5 4 4 5 1 4 4 1 2 4 2 3 1 1 3 1]   22977.506918  \n",
       "4  [1 5 5 5 4 3 3 5 3 4 1 5 3 2 4 5 2 1 5 3]   21164.792207  "
      ]
     },
     "execution_count": 97,
     "metadata": {},
     "output_type": "execute_result"
    }
   ],
   "source": [
    "data.head(5)"
   ]
  },
  {
   "cell_type": "markdown",
   "metadata": {},
   "source": [
    "Some columns we need to remove completely and just delete, some columns we need to remove but keep a reference to. \n",
    "\n",
    "We can use the Pandas function ``.drop()`` to completely lose some columns entirely. This is for things that are identifiable and not useful for sharing with other researchers."
   ]
  },
  {
   "cell_type": "code",
   "execution_count": 98,
   "metadata": {},
   "outputs": [],
   "source": [
    "## Get rid off username, phone, userid\n",
    "data = data.drop([\"username\", \"phone\", \"userid\"], axis = 1)"
   ]
  },
  {
   "cell_type": "code",
   "execution_count": 99,
   "metadata": {},
   "outputs": [
    {
     "data": {
      "text/plain": [
       "Index(['name', 'sex', 'address', 'mail', 'birthdate', 'job', 'survey_answers',\n",
       "       'salary'],\n",
       "      dtype='object')"
      ]
     },
     "execution_count": 99,
     "metadata": {},
     "output_type": "execute_result"
    }
   ],
   "source": [
    "data.columns"
   ]
  },
  {
   "cell_type": "markdown",
   "metadata": {},
   "source": [
    "We want to remove the name and email as they identifiable, **but** we want to keep a reference to them so we can get back and identify the participants if we need to later. \n",
    "\n",
    "We can save this reference separately in a **very secure and restricted place**. There is no reason for anyone but the lead researchers to ever have access to this. "
   ]
  },
  {
   "cell_type": "code",
   "execution_count": 100,
   "metadata": {},
   "outputs": [],
   "source": [
    "#Get unique() names \n",
    "names = data[\"name\"].unique()\n",
    "\n",
    "#New dictionaries to keep mappings\n",
    "id_to_name = {}\n",
    "name_to_id = {}\n",
    "\n",
    "#Go through each name\n",
    "for i, name in enumerate(names):\n",
    "    \n",
    "    #Make a new identifier\n",
    "    identifier = \"P\"+str(i)\n",
    "    \n",
    "    #Get the email\n",
    "    email = data[data[\"name\"] == name][\"mail\"].item()\n",
    "    \n",
    "    #Save the name and email against the identifier\n",
    "    id_to_name[identifier] = [name, email]\n",
    "    \n",
    "    #And reverse \n",
    "    name_to_id[name] = identifier"
   ]
  },
  {
   "cell_type": "code",
   "execution_count": 101,
   "metadata": {},
   "outputs": [],
   "source": [
    "#Make a new column with the participant id\n",
    "data[\"participant_id\"] = [name_to_id[name] for name in data[\"name\"]]"
   ]
  },
  {
   "cell_type": "code",
   "execution_count": 102,
   "metadata": {},
   "outputs": [],
   "source": [
    "#Save the reference file (keep this secure!)\n",
    "pd.DataFrame(id_to_name).T.to_csv(\"participant_lookup.csv\", header = False)"
   ]
  },
  {
   "cell_type": "code",
   "execution_count": 103,
   "metadata": {},
   "outputs": [],
   "source": [
    "#drop the name and email columns \n",
    "data = data.drop([\"name\", \"mail\"], axis = 1)"
   ]
  },
  {
   "cell_type": "markdown",
   "metadata": {},
   "source": [
    "### Aggregate or reduce the precision \n",
    "\n",
    "You can do this for \n",
    "\n",
    "\n",
    "* Age \n",
    "\n",
    "    * Record birth year (not month, day)\n",
    "   \n",
    "\n",
    "* Place of Residence \n",
    "\n",
    "    * Record Postcode sectors (first 3 - 4 digits) \n",
    "\n",
    "\n",
    "### Dates\n",
    "\n",
    "In Pandas, the date is specified in its own data type so its quite easy to manipulate to, for example, remove precision information.\n",
    "\n",
    "We can reformat the column by giving it a new `format string`. Here, we give it ``'%Y'`` to tell it to just **keep the year only**\n",
    "\n",
    "You can find the documentation for formatting date string in Python [here](https://docs.python.org/3/library/datetime.html#strftime-and-strptime-behavior)"
   ]
  },
  {
   "cell_type": "code",
   "execution_count": 106,
   "metadata": {},
   "outputs": [],
   "source": [
    "## Reformatting dates \n",
    "data[\"birthdate\"] = data[\"birthdate\"].dt.strftime('%Y')"
   ]
  },
  {
   "cell_type": "markdown",
   "metadata": {},
   "source": [
    "### Reformatting dates tast\n",
    "\n",
    "...todo..."
   ]
  },
  {
   "cell_type": "markdown",
   "metadata": {},
   "source": [
    "### Post codes\n",
    "\n",
    "For the post code we can remove the end of the postcode to reduce precision \n",
    "\n",
    "For UK Post codes, the first area location can be 2-4 characters. But, consistently we can achieve the anonymisation by removing the **last 3 characters**. \n",
    "\n",
    "Here we use the ``str.slice()`` function and use the **negative index** to say ``slice 3 from the end``"
   ]
  },
  {
   "cell_type": "code",
   "execution_count": null,
   "metadata": {},
   "outputs": [],
   "source": [
    "## Reformatting strings (delete last 3 characters)\n",
    "data[\"address\"] = data[\"address\"].str.slice(stop = -3) "
   ]
  },
  {
   "cell_type": "markdown",
   "metadata": {},
   "source": [
    "### Restrict upper or lower ranges \n",
    "\n",
    "We can hide outliers as these may be used to identify people known to to have atypical values \n",
    "\n",
    "For example, you can **top-code** or **bottom-code** high or low values respectively. This means grouping everyone above or below a given threshold into one category. "
   ]
  },
  {
   "cell_type": "code",
   "execution_count": null,
   "metadata": {},
   "outputs": [],
   "source": [
    "## Threshold and replace \n",
    "top_limit = 70000\n",
    "column = \"salary\"\n",
    "row_indexer = data[column] > top_limit\n",
    "\n",
    "#Using .loc and a mask as a [row_indexer, col_indexer]\n",
    "data.loc[row_indexer, column] = top_limit"
   ]
  },
  {
   "cell_type": "code",
   "execution_count": null,
   "metadata": {},
   "outputs": [],
   "source": [
    "data"
   ]
  },
  {
   "cell_type": "markdown",
   "metadata": {},
   "source": [
    "## Media Data \n",
    "\n",
    "### Audio (Voices)\n",
    "\n",
    "Sometimes its necessary to disguise voices in audio recordings. We can use the `librosa` package to re-pitch a voice but keep the time information the same \n"
   ]
  },
  {
   "cell_type": "code",
   "execution_count": null,
   "metadata": {},
   "outputs": [],
   "source": [
    "#Install audio packages\n",
    "!pip3 install librosa\n",
    "!pip3 install soundfile"
   ]
  },
  {
   "cell_type": "code",
   "execution_count": null,
   "metadata": {},
   "outputs": [],
   "source": [
    "import librosa\n",
    "import soundfile as sf"
   ]
  },
  {
   "cell_type": "code",
   "execution_count": null,
   "metadata": {},
   "outputs": [],
   "source": [
    "#Pick paths\n",
    "file_path = 'voice.wav'\n",
    "output_file = 'repitched_voice.wav'\n",
    "\n",
    "#Load in file\n",
    "y, sr = librosa.load(file_path)\n",
    "repitched_audio = librosa.effects.pitch_shift(y, sr, n_steps = -4)\n",
    "\n",
    "#Save altered file\n",
    "sf.write(output_file, repitched_audio, sr, subtype='PCM_24')"
   ]
  },
  {
   "cell_type": "markdown",
   "metadata": {},
   "source": [
    "### Faces - Images\n",
    "\n",
    "We can also use the ``OpenCV`` package to find faces and apply a ``Gaussian blur``\n",
    "\n",
    "First we see how this can be applied to images one at a time, and to all images in a given folder using Pythons ``os.walk`` function. This does a recursive walk through all the folders from a given top directory. "
   ]
  },
  {
   "cell_type": "code",
   "execution_count": null,
   "metadata": {},
   "outputs": [],
   "source": [
    "#Install computer vision packages\n",
    "!pip3 install opencv-contrib-python"
   ]
  },
  {
   "cell_type": "code",
   "execution_count": 93,
   "metadata": {},
   "outputs": [
    {
     "name": "stdout",
     "output_type": "stream",
     "text": [
      "images/squareheadlouis.jpg\n",
      "images/scientist.jpg\n"
     ]
    }
   ],
   "source": [
    "#adapted from https://www.geeksforgeeks.org/how-to-blur-faces-in-images-using-opencv-in-python/\n",
    "\n",
    "import cv2\n",
    "import matplotlib.pyplot as plt\n",
    "\n",
    "top_folder = \"images/\"\n",
    "for root, dirs, files in os.walk(top_folder, topdown=False):\n",
    "    for name in files:\n",
    "        if not name == \".DS_Store\":\n",
    "            image_path = os.path.join(root, name)\n",
    "            print(image_path)\n",
    "            # Reading an image using OpenCV\n",
    "            image = cv2.imread(image_path)\n",
    "            image = cv2.cvtColor(image, cv2.COLOR_BGR2RGB)\n",
    "\n",
    "            face_detect = cv2.CascadeClassifier('haarcascade_frontalface_default.xml')\n",
    "            face_data = face_detect.detectMultiScale(image, 1.3, 2)\n",
    "\n",
    "            # Draw rectangle around the faces which is our region of interest (ROI)\n",
    "            for (x, y, w, h) in face_data:\n",
    "                roi = image[y:y+h, x:x+w]\n",
    "                # applying a gaussian blur over this new rectangle area\n",
    "                roi = cv2.GaussianBlur(roi, (23, 23), 30)\n",
    "                # impose this blurred image on original image to get final image\n",
    "                image[y:y+roi.shape[0], x:x+roi.shape[1]] = roi\n",
    "\n",
    "            #Convert back to RGB    \n",
    "            image = cv2.cvtColor(image, cv2.COLOR_BGR2RGB)\n",
    "            cv2.imwrite(image_path[:-4]+\"_blurred.jpg\", image)  "
   ]
  },
  {
   "cell_type": "markdown",
   "metadata": {},
   "source": [
    "### Faces - Video\n",
    "\n",
    "Now we see how we can go through each frame one by one and blur the faces\n",
    "\n",
    "We also put the audio back at the bottom using the ``ffmpeg`` library, and optionally repitch \n",
    "\n",
    "To install ffmpeg, the easiest way is through [HomeBrew](https://brew.sh/) (which you might have to install as well!) \n",
    "\n",
    "Use ``brew install ffmpeg``"
   ]
  },
  {
   "cell_type": "code",
   "execution_count": null,
   "metadata": {},
   "outputs": [],
   "source": [
    "input_video_path = \"louis.mp4\"\n",
    "output_video_path = \"anon.mp4\"\n",
    "\n",
    "cap = cv2.VideoCapture(input_video_path)\n",
    "#Get input video meta data\n",
    "fps = cap.get(cv2.CAP_PROP_FPS)\n",
    "width  = int(cap.get(3))\n",
    "height = int(cap.get(4))\n",
    "\n",
    "fourcc = cv2.VideoWriter_fourcc(*'mp4v')\n",
    "out = cv2.VideoWriter(\"blurred_temp.mp4\", fourcc, fps, (width,  height))\n",
    "face_detect = cv2.CascadeClassifier('haarcascade_frontalface_default.xml')\n",
    "\n",
    "#For every video frame\n",
    "while cap.isOpened():\n",
    "    ret, frame = cap.read()\n",
    "    if not ret:\n",
    "        print(\"End of stream\")\n",
    "        break\n",
    "    \n",
    "    #Blur face\n",
    "    face_data = face_detect.detectMultiScale(frame, 1.2, 1)\n",
    "    for (x, y, w, h) in face_data:\n",
    "        roi = frame[y:y+h, x:x+w]\n",
    "        roi = cv2.GaussianBlur(roi, (23, 23), 30)\n",
    "        frame[y:y+roi.shape[0], x:x+roi.shape[1]] = roi\n",
    "        \n",
    "    #Write new frame\n",
    "    out.write(frame)\n",
    "    \n",
    "out.release() \n",
    "\n",
    "#Extract original audio\n",
    "os.system(\"ffmpeg -i \" + input_video_path + \" -q:a 0 -map a audio_temp.wav\")\n",
    "\n",
    "#REPITCH AUDIO (comment out if not wanted!)\n",
    "y, sr = librosa.load(\"audio_temp.wav\")\n",
    "repitched_audio = librosa.effects.pitch_shift(y, sr, n_steps=-4)\n",
    "sf.write(\"audio_temp.wav\", repitched_audio, sr, subtype='PCM_24')\n",
    "\n",
    "#Put audio back on output video\n",
    "os.system(\"ffmpeg -i  blurred_temp.mp4 -i audio_temp.wav -map 0:v:0 -map 1:a:0 \" + output_video_path)\n",
    "\n",
    "#Delete temp files\n",
    "os.system(\"rm audio_temp.wav blurred_temp.mp4\")"
   ]
  }
 ],
 "metadata": {
  "kernelspec": {
   "display_name": "Python 3",
   "language": "python",
   "name": "python3"
  },
  "language_info": {
   "codemirror_mode": {
    "name": "ipython",
    "version": 3
   },
   "file_extension": ".py",
   "mimetype": "text/x-python",
   "name": "python",
   "nbconvert_exporter": "python",
   "pygments_lexer": "ipython3",
   "version": "3.8.5"
  }
 },
 "nbformat": 4,
 "nbformat_minor": 4
}
